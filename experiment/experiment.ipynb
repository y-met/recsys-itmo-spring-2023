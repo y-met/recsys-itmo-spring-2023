{
 "cells": [
  {
   "cell_type": "markdown",
   "metadata": {},
   "source": [
    "# Week 1 Seminar\n",
    "\n",
    "A/B experiment analysis"
   ]
  },
  {
   "cell_type": "code",
   "execution_count": 51,
   "metadata": {
    "tags": []
   },
   "outputs": [],
   "source": [
    "from collections import namedtuple\n",
    "\n",
    "import pandas as pd\n",
    "import numpy as np\n",
    "import scipy.stats as ss\n",
    "\n",
    "import matplotlib.pyplot as plt\n",
    "\n",
    "pd.set_option(\"display.precision\", 3)\n",
    "\n",
    "%matplotlib inline"
   ]
  },
  {
   "cell_type": "code",
   "execution_count": 52,
   "metadata": {
    "tags": []
   },
   "outputs": [],
   "source": [
    "experiment = \"PATCHCONTEXTUAL\""
   ]
  },
  {
   "cell_type": "code",
   "execution_count": 53,
   "metadata": {
    "tags": []
   },
   "outputs": [],
   "source": [
    "data = pd.read_json(\"/tmp/log/data.json\", lines=True)\n",
    "data[\"treatment\"] = data[\"experiments\"].map(lambda experiments: experiments[experiment])"
   ]
  },
  {
   "cell_type": "code",
   "execution_count": 54,
   "metadata": {
    "tags": []
   },
   "outputs": [
    {
     "data": {
      "text/html": [
       "<div>\n",
       "<style scoped>\n",
       "    .dataframe tbody tr th:only-of-type {\n",
       "        vertical-align: middle;\n",
       "    }\n",
       "\n",
       "    .dataframe tbody tr th {\n",
       "        vertical-align: top;\n",
       "    }\n",
       "\n",
       "    .dataframe thead th {\n",
       "        text-align: right;\n",
       "    }\n",
       "</style>\n",
       "<table border=\"1\" class=\"dataframe\">\n",
       "  <thead>\n",
       "    <tr style=\"text-align: right;\">\n",
       "      <th></th>\n",
       "      <th>message</th>\n",
       "      <th>timestamp</th>\n",
       "      <th>user</th>\n",
       "      <th>track</th>\n",
       "      <th>time</th>\n",
       "      <th>latency</th>\n",
       "      <th>recommendation</th>\n",
       "      <th>experiments</th>\n",
       "      <th>treatment</th>\n",
       "    </tr>\n",
       "  </thead>\n",
       "  <tbody>\n",
       "    <tr>\n",
       "      <th>0</th>\n",
       "      <td>next</td>\n",
       "      <td>2023-04-11 02:48:20.477</td>\n",
       "      <td>2650</td>\n",
       "      <td>23120</td>\n",
       "      <td>1.00</td>\n",
       "      <td>7.963e-04</td>\n",
       "      <td>1540.0</td>\n",
       "      <td>{'PATCHCONTEXTUAL': 'C'}</td>\n",
       "      <td>C</td>\n",
       "    </tr>\n",
       "    <tr>\n",
       "      <th>1</th>\n",
       "      <td>next</td>\n",
       "      <td>2023-04-11 02:48:20.482</td>\n",
       "      <td>2650</td>\n",
       "      <td>1540</td>\n",
       "      <td>1.00</td>\n",
       "      <td>4.904e-04</td>\n",
       "      <td>1086.0</td>\n",
       "      <td>{'PATCHCONTEXTUAL': 'C'}</td>\n",
       "      <td>C</td>\n",
       "    </tr>\n",
       "    <tr>\n",
       "      <th>2</th>\n",
       "      <td>next</td>\n",
       "      <td>2023-04-11 02:48:20.486</td>\n",
       "      <td>2650</td>\n",
       "      <td>1086</td>\n",
       "      <td>1.00</td>\n",
       "      <td>3.786e-04</td>\n",
       "      <td>246.0</td>\n",
       "      <td>{'PATCHCONTEXTUAL': 'C'}</td>\n",
       "      <td>C</td>\n",
       "    </tr>\n",
       "    <tr>\n",
       "      <th>3</th>\n",
       "      <td>next</td>\n",
       "      <td>2023-04-11 02:48:20.490</td>\n",
       "      <td>2650</td>\n",
       "      <td>246</td>\n",
       "      <td>0.97</td>\n",
       "      <td>3.569e-04</td>\n",
       "      <td>4204.0</td>\n",
       "      <td>{'PATCHCONTEXTUAL': 'C'}</td>\n",
       "      <td>C</td>\n",
       "    </tr>\n",
       "    <tr>\n",
       "      <th>4</th>\n",
       "      <td>next</td>\n",
       "      <td>2023-04-11 02:48:20.494</td>\n",
       "      <td>2650</td>\n",
       "      <td>4204</td>\n",
       "      <td>0.14</td>\n",
       "      <td>4.337e-04</td>\n",
       "      <td>8262.0</td>\n",
       "      <td>{'PATCHCONTEXTUAL': 'C'}</td>\n",
       "      <td>C</td>\n",
       "    </tr>\n",
       "  </tbody>\n",
       "</table>\n",
       "</div>"
      ],
      "text/plain": [
       "  message               timestamp  user  track  time    latency  \\\n",
       "0    next 2023-04-11 02:48:20.477  2650  23120  1.00  7.963e-04   \n",
       "1    next 2023-04-11 02:48:20.482  2650   1540  1.00  4.904e-04   \n",
       "2    next 2023-04-11 02:48:20.486  2650   1086  1.00  3.786e-04   \n",
       "3    next 2023-04-11 02:48:20.490  2650    246  0.97  3.569e-04   \n",
       "4    next 2023-04-11 02:48:20.494  2650   4204  0.14  4.337e-04   \n",
       "\n",
       "   recommendation               experiments treatment  \n",
       "0          1540.0  {'PATCHCONTEXTUAL': 'C'}         C  \n",
       "1          1086.0  {'PATCHCONTEXTUAL': 'C'}         C  \n",
       "2           246.0  {'PATCHCONTEXTUAL': 'C'}         C  \n",
       "3          4204.0  {'PATCHCONTEXTUAL': 'C'}         C  \n",
       "4          8262.0  {'PATCHCONTEXTUAL': 'C'}         C  "
      ]
     },
     "execution_count": 54,
     "metadata": {},
     "output_type": "execute_result"
    }
   ],
   "source": [
    "data.head()"
   ]
  },
  {
   "cell_type": "markdown",
   "metadata": {},
   "source": [
    "## Visualize sessions"
   ]
  },
  {
   "cell_type": "code",
   "execution_count": 55,
   "metadata": {
    "tags": []
   },
   "outputs": [],
   "source": [
    "Session = namedtuple(\"Session\", [\"timestamp\", \"tracks\", \"time\", \"latency\"])\n",
    "\n",
    "def sessionize(user_data):\n",
    "    sessions = []\n",
    "    session = None\n",
    "    for _, row in user_data.sort_values(\"timestamp\").iterrows():\n",
    "        if session is None:\n",
    "            session = Session(row[\"timestamp\"], 0, 0, 0)\n",
    "        \n",
    "        session = session._replace(\n",
    "            tracks = session.tracks + 1, \n",
    "            time = session.time + row[\"time\"],\n",
    "            latency = session.latency + row[\"latency\"] * 1000,\n",
    "        )\n",
    "        \n",
    "        if row[\"message\"] == \"last\":\n",
    "            sessions.append(session._asdict())\n",
    "            session = None\n",
    "    return sessions"
   ]
  },
  {
   "cell_type": "code",
   "execution_count": 56,
   "metadata": {
    "tags": []
   },
   "outputs": [],
   "source": [
    "sessions = (\n",
    "    data\n",
    "    .groupby([\"user\", \"treatment\"])\n",
    "    .apply(sessionize)\n",
    "    .explode()\n",
    "    .apply(pd.Series)\n",
    ")"
   ]
  },
  {
   "cell_type": "markdown",
   "metadata": {},
   "source": [
    "## Analyze the experiment"
   ]
  },
  {
   "cell_type": "code",
   "execution_count": 57,
   "metadata": {
    "tags": []
   },
   "outputs": [],
   "source": [
    "user_level_data = (\n",
    "  sessions\n",
    "    .reset_index()\n",
    "    .groupby([\"user\", \"treatment\"])\n",
    "    .agg(\n",
    "        {\n",
    "            \"timestamp\": \"count\",\n",
    "            \"tracks\": \"sum\",\n",
    "            \"time\": \"sum\",\n",
    "            \"latency\": \"sum\"\n",
    "        }\n",
    "    )\n",
    ")\n",
    "\n",
    "user_level_data[\"sessions\"] = user_level_data[\"timestamp\"]\n",
    "user_level_data[\"mean_request_latency\"] = user_level_data[\"latency\"] / user_level_data[\"tracks\"]\n",
    "user_level_data[\"mean_tracks_per_session\"] = user_level_data[\"tracks\"] / user_level_data[\"sessions\"]\n",
    "user_level_data[\"mean_time_per_session\"] = user_level_data[\"time\"] / user_level_data[\"sessions\"]\n",
    "\n",
    "metrics = [\n",
    "    \"time\", \n",
    "    \"sessions\", \n",
    "    \"mean_request_latency\", \n",
    "    \"mean_tracks_per_session\", \n",
    "    \"mean_time_per_session\"\n",
    "]\n",
    "\n",
    "user_level_metrics = user_level_data[metrics].copy().reset_index()"
   ]
  },
  {
   "cell_type": "code",
   "execution_count": 58,
   "metadata": {
    "tags": []
   },
   "outputs": [],
   "source": [
    "treatment_level_metrics = (\n",
    "    user_level_metrics\n",
    "    .groupby(\"treatment\")[metrics]\n",
    "    .agg([\"count\", \"mean\", \"var\"])\n",
    ")"
   ]
  },
  {
   "cell_type": "code",
   "execution_count": 59,
   "metadata": {
    "tags": []
   },
   "outputs": [],
   "source": [
    "def dof(n_0, n_1, s2_0, s2_1):\n",
    "    numerator = (s2_0 / n_0 + s2_1 / n_1) * (s2_0 / n_0 + s2_1 / n_1)\n",
    "    denominator = s2_0 * s2_0 / n_0 / n_0 / (n_0 - 1) + s2_1 * s2_1 / n_1 / n_1 / (n_1 - 1)\n",
    "    return numerator / denominator\n",
    "\n",
    "\n",
    "def ci(n_0, n_1, s2_0, s2_1, alpha=0.05):\n",
    "    return ss.t.ppf(1 - alpha/2, dof(n_0, n_1, s2_0, s2_1)) * np.sqrt(s2_0 / n_0 + s2_1 / n_1)\n",
    "\n",
    "\n",
    "effects = []\n",
    "\n",
    "control = [data for treatment, data in treatment_level_metrics.iterrows() if treatment == \"C\"][0]\n",
    "\n",
    "for treatment, row in treatment_level_metrics.iterrows():\n",
    "    if treatment == \"C\":\n",
    "        continue\n",
    "    \n",
    "    for metric in metrics:\n",
    "        control_mean = control[metric][\"mean\"]\n",
    "        treatment_mean = row[metric][\"mean\"]\n",
    "        \n",
    "        effect = treatment_mean - control_mean\n",
    "        conf_int = ci(\n",
    "            control[metric][\"count\"],\n",
    "            row[metric][\"count\"],\n",
    "            control[metric][\"var\"],\n",
    "            row[metric][\"var\"],\n",
    "        )\n",
    "        effects.append({\n",
    "            \"treatment\": treatment,\n",
    "            \"metric\": metric,\n",
    "            \"control_mean\": control_mean,\n",
    "            \"treatment_mean\": treatment_mean,\n",
    "            \"effect\": effect / control_mean * 100,\n",
    "            \"lower\": (effect - conf_int) / control_mean * 100,\n",
    "            \"upper\": (effect + conf_int) / control_mean * 100,\n",
    "            \"significant\": (effect + conf_int) * (effect - conf_int) > 0\n",
    "        })"
   ]
  },
  {
   "cell_type": "markdown",
   "metadata": {},
   "source": [
    "### 1000 episodes"
   ]
  },
  {
   "cell_type": "code",
   "execution_count": 60,
   "metadata": {
    "tags": []
   },
   "outputs": [
    {
     "data": {
      "text/html": [
       "<style  type=\"text/css\" >\n",
       "#T_1a13d_row0_col2,#T_1a13d_row0_col3,#T_1a13d_row0_col4,#T_1a13d_row1_col3,#T_1a13d_row2_col2,#T_1a13d_row2_col3,#T_1a13d_row2_col4,#T_1a13d_row3_col2,#T_1a13d_row3_col3,#T_1a13d_row3_col4{\n",
       "            color: green;\n",
       "        }#T_1a13d_row0_col7,#T_1a13d_row2_col7,#T_1a13d_row3_col7,#T_1a13d_row4_col7{\n",
       "            color: white;\n",
       "            background-color: green;\n",
       "        }#T_1a13d_row1_col2,#T_1a13d_row1_col4,#T_1a13d_row4_col2,#T_1a13d_row4_col3,#T_1a13d_row4_col4{\n",
       "            color: red;\n",
       "        }#T_1a13d_row1_col7{\n",
       "            color: white;\n",
       "            background-color: red;\n",
       "        }</style><table id=\"T_1a13d_\" ><thead>    <tr>        <th class=\"blank level0\" ></th>        <th class=\"col_heading level0 col0\" >treatment</th>        <th class=\"col_heading level0 col1\" >metric</th>        <th class=\"col_heading level0 col2\" >effect</th>        <th class=\"col_heading level0 col3\" >upper</th>        <th class=\"col_heading level0 col4\" >lower</th>        <th class=\"col_heading level0 col5\" >control_mean</th>        <th class=\"col_heading level0 col6\" >treatment_mean</th>        <th class=\"col_heading level0 col7\" >significant</th>    </tr></thead><tbody>\n",
       "                <tr>\n",
       "                        <th id=\"T_1a13d_level0_row0\" class=\"row_heading level0 row0\" >0</th>\n",
       "                        <td id=\"T_1a13d_row0_col0\" class=\"data row0 col0\" >T1</td>\n",
       "                        <td id=\"T_1a13d_row0_col1\" class=\"data row0 col1\" >time</td>\n",
       "                        <td id=\"T_1a13d_row0_col2\" class=\"data row0 col2\" >250.323</td>\n",
       "                        <td id=\"T_1a13d_row0_col3\" class=\"data row0 col3\" >290.404</td>\n",
       "                        <td id=\"T_1a13d_row0_col4\" class=\"data row0 col4\" >210.242</td>\n",
       "                        <td id=\"T_1a13d_row0_col5\" class=\"data row0 col5\" >5.218</td>\n",
       "                        <td id=\"T_1a13d_row0_col6\" class=\"data row0 col6\" >18.279</td>\n",
       "                        <td id=\"T_1a13d_row0_col7\" class=\"data row0 col7\" >True</td>\n",
       "            </tr>\n",
       "            <tr>\n",
       "                        <th id=\"T_1a13d_level0_row1\" class=\"row_heading level0 row1\" >1</th>\n",
       "                        <td id=\"T_1a13d_row1_col0\" class=\"data row1 col0\" >T1</td>\n",
       "                        <td id=\"T_1a13d_row1_col1\" class=\"data row1 col1\" >sessions</td>\n",
       "                        <td id=\"T_1a13d_row1_col2\" class=\"data row1 col2\" >-0.133</td>\n",
       "                        <td id=\"T_1a13d_row1_col3\" class=\"data row1 col3\" >2.507</td>\n",
       "                        <td id=\"T_1a13d_row1_col4\" class=\"data row1 col4\" >-2.772</td>\n",
       "                        <td id=\"T_1a13d_row1_col5\" class=\"data row1 col5\" >1.046</td>\n",
       "                        <td id=\"T_1a13d_row1_col6\" class=\"data row1 col6\" >1.044</td>\n",
       "                        <td id=\"T_1a13d_row1_col7\" class=\"data row1 col7\" >False</td>\n",
       "            </tr>\n",
       "            <tr>\n",
       "                        <th id=\"T_1a13d_level0_row2\" class=\"row_heading level0 row2\" >3</th>\n",
       "                        <td id=\"T_1a13d_row2_col0\" class=\"data row2 col0\" >T1</td>\n",
       "                        <td id=\"T_1a13d_row2_col1\" class=\"data row2 col1\" >mean_tracks_per_session</td>\n",
       "                        <td id=\"T_1a13d_row2_col2\" class=\"data row2 col2\" >128.458</td>\n",
       "                        <td id=\"T_1a13d_row2_col3\" class=\"data row2 col3\" >149.199</td>\n",
       "                        <td id=\"T_1a13d_row2_col4\" class=\"data row2 col4\" >107.718</td>\n",
       "                        <td id=\"T_1a13d_row2_col5\" class=\"data row2 col5\" >9.975</td>\n",
       "                        <td id=\"T_1a13d_row2_col6\" class=\"data row2 col6\" >22.789</td>\n",
       "                        <td id=\"T_1a13d_row2_col7\" class=\"data row2 col7\" >True</td>\n",
       "            </tr>\n",
       "            <tr>\n",
       "                        <th id=\"T_1a13d_level0_row3\" class=\"row_heading level0 row3\" >4</th>\n",
       "                        <td id=\"T_1a13d_row3_col0\" class=\"data row3 col0\" >T1</td>\n",
       "                        <td id=\"T_1a13d_row3_col1\" class=\"data row3 col1\" >mean_time_per_session</td>\n",
       "                        <td id=\"T_1a13d_row3_col2\" class=\"data row3 col2\" >253.725</td>\n",
       "                        <td id=\"T_1a13d_row3_col3\" class=\"data row3 col3\" >294.534</td>\n",
       "                        <td id=\"T_1a13d_row3_col4\" class=\"data row3 col4\" >212.916</td>\n",
       "                        <td id=\"T_1a13d_row3_col5\" class=\"data row3 col5\" >5.028</td>\n",
       "                        <td id=\"T_1a13d_row3_col6\" class=\"data row3 col6\" >17.786</td>\n",
       "                        <td id=\"T_1a13d_row3_col7\" class=\"data row3 col7\" >True</td>\n",
       "            </tr>\n",
       "            <tr>\n",
       "                        <th id=\"T_1a13d_level0_row4\" class=\"row_heading level0 row4\" >2</th>\n",
       "                        <td id=\"T_1a13d_row4_col0\" class=\"data row4 col0\" >T1</td>\n",
       "                        <td id=\"T_1a13d_row4_col1\" class=\"data row4 col1\" >mean_request_latency</td>\n",
       "                        <td id=\"T_1a13d_row4_col2\" class=\"data row4 col2\" >-16.524</td>\n",
       "                        <td id=\"T_1a13d_row4_col3\" class=\"data row4 col3\" >-15.483</td>\n",
       "                        <td id=\"T_1a13d_row4_col4\" class=\"data row4 col4\" >-17.564</td>\n",
       "                        <td id=\"T_1a13d_row4_col5\" class=\"data row4 col5\" >0.450</td>\n",
       "                        <td id=\"T_1a13d_row4_col6\" class=\"data row4 col6\" >0.376</td>\n",
       "                        <td id=\"T_1a13d_row4_col7\" class=\"data row4 col7\" >True</td>\n",
       "            </tr>\n",
       "    </tbody></table>"
      ],
      "text/plain": [
       "<pandas.io.formats.style.Styler at 0x7f83dce0e590>"
      ]
     },
     "execution_count": 60,
     "metadata": {},
     "output_type": "execute_result"
    }
   ],
   "source": [
    "def color(value):\n",
    "    return 'color:red;' if value < 0 else 'color:green;'\n",
    "\n",
    "def background(value):\n",
    "    return 'color:white;background-color:green' if value else 'color:white;background-color:red'\n",
    "        \n",
    "\n",
    "(\n",
    "    pd.DataFrame(effects)[[\n",
    "        \"treatment\", \n",
    "        \"metric\",\n",
    "        \"effect\", \n",
    "        \"upper\", \n",
    "        \"lower\", \n",
    "        \"control_mean\", \n",
    "        \"treatment_mean\",\n",
    "        \"significant\"\n",
    "    ]]\n",
    "    .sort_values([\"metric\", \"treatment\"], ascending=False)\n",
    "    .style\n",
    "    .applymap(color, subset=[\"effect\", \"upper\", \"lower\"])\n",
    "    .applymap(background, subset=[\"significant\"])\n",
    ")"
   ]
  },
  {
   "cell_type": "markdown",
   "metadata": {},
   "source": [
    "### 3000 episodes"
   ]
  },
  {
   "cell_type": "code",
   "execution_count": 40,
   "metadata": {},
   "outputs": [
    {
     "data": {
      "text/html": [
       "<style  type=\"text/css\" >\n",
       "#T_25a7b_row0_col2,#T_25a7b_row0_col3,#T_25a7b_row0_col4,#T_25a7b_row1_col2,#T_25a7b_row1_col3,#T_25a7b_row2_col2,#T_25a7b_row2_col3,#T_25a7b_row2_col4,#T_25a7b_row3_col2,#T_25a7b_row3_col3,#T_25a7b_row3_col4{\n",
       "            color: green;\n",
       "        }#T_25a7b_row0_col7,#T_25a7b_row2_col7,#T_25a7b_row3_col7,#T_25a7b_row4_col7{\n",
       "            color: white;\n",
       "            background-color: green;\n",
       "        }#T_25a7b_row1_col4,#T_25a7b_row4_col2,#T_25a7b_row4_col3,#T_25a7b_row4_col4{\n",
       "            color: red;\n",
       "        }#T_25a7b_row1_col7{\n",
       "            color: white;\n",
       "            background-color: red;\n",
       "        }</style><table id=\"T_25a7b_\" ><thead>    <tr>        <th class=\"blank level0\" ></th>        <th class=\"col_heading level0 col0\" >treatment</th>        <th class=\"col_heading level0 col1\" >metric</th>        <th class=\"col_heading level0 col2\" >effect</th>        <th class=\"col_heading level0 col3\" >upper</th>        <th class=\"col_heading level0 col4\" >lower</th>        <th class=\"col_heading level0 col5\" >control_mean</th>        <th class=\"col_heading level0 col6\" >treatment_mean</th>        <th class=\"col_heading level0 col7\" >significant</th>    </tr></thead><tbody>\n",
       "                <tr>\n",
       "                        <th id=\"T_25a7b_level0_row0\" class=\"row_heading level0 row0\" >0</th>\n",
       "                        <td id=\"T_25a7b_row0_col0\" class=\"data row0 col0\" >T1</td>\n",
       "                        <td id=\"T_25a7b_row0_col1\" class=\"data row0 col1\" >time</td>\n",
       "                        <td id=\"T_25a7b_row0_col2\" class=\"data row0 col2\" >207.392</td>\n",
       "                        <td id=\"T_25a7b_row0_col3\" class=\"data row0 col3\" >229.611</td>\n",
       "                        <td id=\"T_25a7b_row0_col4\" class=\"data row0 col4\" >185.174</td>\n",
       "                        <td id=\"T_25a7b_row0_col5\" class=\"data row0 col5\" >5.831</td>\n",
       "                        <td id=\"T_25a7b_row0_col6\" class=\"data row0 col6\" >17.923</td>\n",
       "                        <td id=\"T_25a7b_row0_col7\" class=\"data row0 col7\" >True</td>\n",
       "            </tr>\n",
       "            <tr>\n",
       "                        <th id=\"T_25a7b_level0_row1\" class=\"row_heading level0 row1\" >1</th>\n",
       "                        <td id=\"T_25a7b_row1_col0\" class=\"data row1 col0\" >T1</td>\n",
       "                        <td id=\"T_25a7b_row1_col1\" class=\"data row1 col1\" >sessions</td>\n",
       "                        <td id=\"T_25a7b_row1_col2\" class=\"data row1 col2\" >0.817</td>\n",
       "                        <td id=\"T_25a7b_row1_col3\" class=\"data row1 col3\" >3.556</td>\n",
       "                        <td id=\"T_25a7b_row1_col4\" class=\"data row1 col4\" >-1.922</td>\n",
       "                        <td id=\"T_25a7b_row1_col5\" class=\"data row1 col5\" >1.155</td>\n",
       "                        <td id=\"T_25a7b_row1_col6\" class=\"data row1 col6\" >1.164</td>\n",
       "                        <td id=\"T_25a7b_row1_col7\" class=\"data row1 col7\" >False</td>\n",
       "            </tr>\n",
       "            <tr>\n",
       "                        <th id=\"T_25a7b_level0_row2\" class=\"row_heading level0 row2\" >3</th>\n",
       "                        <td id=\"T_25a7b_row2_col0\" class=\"data row2 col0\" >T1</td>\n",
       "                        <td id=\"T_25a7b_row2_col1\" class=\"data row2 col1\" >mean_tracks_per_session</td>\n",
       "                        <td id=\"T_25a7b_row2_col2\" class=\"data row2 col2\" >107.041</td>\n",
       "                        <td id=\"T_25a7b_row2_col3\" class=\"data row2 col3\" >118.512</td>\n",
       "                        <td id=\"T_25a7b_row2_col4\" class=\"data row2 col4\" >95.571</td>\n",
       "                        <td id=\"T_25a7b_row2_col5\" class=\"data row2 col5\" >10.108</td>\n",
       "                        <td id=\"T_25a7b_row2_col6\" class=\"data row2 col6\" >20.928</td>\n",
       "                        <td id=\"T_25a7b_row2_col7\" class=\"data row2 col7\" >True</td>\n",
       "            </tr>\n",
       "            <tr>\n",
       "                        <th id=\"T_25a7b_level0_row3\" class=\"row_heading level0 row3\" >4</th>\n",
       "                        <td id=\"T_25a7b_row3_col0\" class=\"data row3 col0\" >T1</td>\n",
       "                        <td id=\"T_25a7b_row3_col1\" class=\"data row3 col1\" >mean_time_per_session</td>\n",
       "                        <td id=\"T_25a7b_row3_col2\" class=\"data row3 col2\" >213.787</td>\n",
       "                        <td id=\"T_25a7b_row3_col3\" class=\"data row3 col3\" >236.351</td>\n",
       "                        <td id=\"T_25a7b_row3_col4\" class=\"data row3 col4\" >191.223</td>\n",
       "                        <td id=\"T_25a7b_row3_col5\" class=\"data row3 col5\" >5.076</td>\n",
       "                        <td id=\"T_25a7b_row3_col6\" class=\"data row3 col6\" >15.928</td>\n",
       "                        <td id=\"T_25a7b_row3_col7\" class=\"data row3 col7\" >True</td>\n",
       "            </tr>\n",
       "            <tr>\n",
       "                        <th id=\"T_25a7b_level0_row4\" class=\"row_heading level0 row4\" >2</th>\n",
       "                        <td id=\"T_25a7b_row4_col0\" class=\"data row4 col0\" >T1</td>\n",
       "                        <td id=\"T_25a7b_row4_col1\" class=\"data row4 col1\" >mean_request_latency</td>\n",
       "                        <td id=\"T_25a7b_row4_col2\" class=\"data row4 col2\" >-15.509</td>\n",
       "                        <td id=\"T_25a7b_row4_col3\" class=\"data row4 col3\" >-14.902</td>\n",
       "                        <td id=\"T_25a7b_row4_col4\" class=\"data row4 col4\" >-16.116</td>\n",
       "                        <td id=\"T_25a7b_row4_col5\" class=\"data row4 col5\" >0.443</td>\n",
       "                        <td id=\"T_25a7b_row4_col6\" class=\"data row4 col6\" >0.374</td>\n",
       "                        <td id=\"T_25a7b_row4_col7\" class=\"data row4 col7\" >True</td>\n",
       "            </tr>\n",
       "    </tbody></table>"
      ],
      "text/plain": [
       "<pandas.io.formats.style.Styler at 0x7f83dd2cc9d0>"
      ]
     },
     "execution_count": 40,
     "metadata": {},
     "output_type": "execute_result"
    }
   ],
   "source": [
    "def color(value):\n",
    "    return 'color:red;' if value < 0 else 'color:green;'\n",
    "\n",
    "def background(value):\n",
    "    return 'color:white;background-color:green' if value else 'color:white;background-color:red'\n",
    "        \n",
    "\n",
    "(\n",
    "    pd.DataFrame(effects)[[\n",
    "        \"treatment\", \n",
    "        \"metric\",\n",
    "        \"effect\", \n",
    "        \"upper\", \n",
    "        \"lower\", \n",
    "        \"control_mean\", \n",
    "        \"treatment_mean\",\n",
    "        \"significant\"\n",
    "    ]]\n",
    "    .sort_values([\"metric\", \"treatment\"], ascending=False)\n",
    "    .style\n",
    "    .applymap(color, subset=[\"effect\", \"upper\", \"lower\"])\n",
    "    .applymap(background, subset=[\"significant\"])\n",
    ")"
   ]
  },
  {
   "cell_type": "markdown",
   "metadata": {},
   "source": [
    "### 6000 episodes"
   ]
  },
  {
   "cell_type": "code",
   "execution_count": 50,
   "metadata": {},
   "outputs": [
    {
     "data": {
      "text/html": [
       "<style  type=\"text/css\" >\n",
       "#T_48d0d_row0_col2,#T_48d0d_row0_col3,#T_48d0d_row0_col4,#T_48d0d_row1_col2,#T_48d0d_row1_col3,#T_48d0d_row2_col2,#T_48d0d_row2_col3,#T_48d0d_row2_col4,#T_48d0d_row3_col2,#T_48d0d_row3_col3,#T_48d0d_row3_col4{\n",
       "            color: green;\n",
       "        }#T_48d0d_row0_col7,#T_48d0d_row2_col7,#T_48d0d_row3_col7,#T_48d0d_row4_col7{\n",
       "            color: white;\n",
       "            background-color: green;\n",
       "        }#T_48d0d_row1_col4,#T_48d0d_row4_col2,#T_48d0d_row4_col3,#T_48d0d_row4_col4{\n",
       "            color: red;\n",
       "        }#T_48d0d_row1_col7{\n",
       "            color: white;\n",
       "            background-color: red;\n",
       "        }</style><table id=\"T_48d0d_\" ><thead>    <tr>        <th class=\"blank level0\" ></th>        <th class=\"col_heading level0 col0\" >treatment</th>        <th class=\"col_heading level0 col1\" >metric</th>        <th class=\"col_heading level0 col2\" >effect</th>        <th class=\"col_heading level0 col3\" >upper</th>        <th class=\"col_heading level0 col4\" >lower</th>        <th class=\"col_heading level0 col5\" >control_mean</th>        <th class=\"col_heading level0 col6\" >treatment_mean</th>        <th class=\"col_heading level0 col7\" >significant</th>    </tr></thead><tbody>\n",
       "                <tr>\n",
       "                        <th id=\"T_48d0d_level0_row0\" class=\"row_heading level0 row0\" >0</th>\n",
       "                        <td id=\"T_48d0d_row0_col0\" class=\"data row0 col0\" >T1</td>\n",
       "                        <td id=\"T_48d0d_row0_col1\" class=\"data row0 col1\" >time</td>\n",
       "                        <td id=\"T_48d0d_row0_col2\" class=\"data row0 col2\" >206.156</td>\n",
       "                        <td id=\"T_48d0d_row0_col3\" class=\"data row0 col3\" >222.385</td>\n",
       "                        <td id=\"T_48d0d_row0_col4\" class=\"data row0 col4\" >189.928</td>\n",
       "                        <td id=\"T_48d0d_row0_col5\" class=\"data row0 col5\" >6.506</td>\n",
       "                        <td id=\"T_48d0d_row0_col6\" class=\"data row0 col6\" >19.920</td>\n",
       "                        <td id=\"T_48d0d_row0_col7\" class=\"data row0 col7\" >True</td>\n",
       "            </tr>\n",
       "            <tr>\n",
       "                        <th id=\"T_48d0d_level0_row1\" class=\"row_heading level0 row1\" >1</th>\n",
       "                        <td id=\"T_48d0d_row1_col0\" class=\"data row1 col0\" >T1</td>\n",
       "                        <td id=\"T_48d0d_row1_col1\" class=\"data row1 col1\" >sessions</td>\n",
       "                        <td id=\"T_48d0d_row1_col2\" class=\"data row1 col2\" >0.523</td>\n",
       "                        <td id=\"T_48d0d_row1_col3\" class=\"data row1 col3\" >3.146</td>\n",
       "                        <td id=\"T_48d0d_row1_col4\" class=\"data row1 col4\" >-2.100</td>\n",
       "                        <td id=\"T_48d0d_row1_col5\" class=\"data row1 col5\" >1.327</td>\n",
       "                        <td id=\"T_48d0d_row1_col6\" class=\"data row1 col6\" >1.334</td>\n",
       "                        <td id=\"T_48d0d_row1_col7\" class=\"data row1 col7\" >False</td>\n",
       "            </tr>\n",
       "            <tr>\n",
       "                        <th id=\"T_48d0d_level0_row2\" class=\"row_heading level0 row2\" >3</th>\n",
       "                        <td id=\"T_48d0d_row2_col0\" class=\"data row2 col0\" >T1</td>\n",
       "                        <td id=\"T_48d0d_row2_col1\" class=\"data row2 col1\" >mean_tracks_per_session</td>\n",
       "                        <td id=\"T_48d0d_row2_col2\" class=\"data row2 col2\" >112.398</td>\n",
       "                        <td id=\"T_48d0d_row2_col3\" class=\"data row2 col3\" >121.242</td>\n",
       "                        <td id=\"T_48d0d_row2_col4\" class=\"data row2 col4\" >103.554</td>\n",
       "                        <td id=\"T_48d0d_row2_col5\" class=\"data row2 col5\" >9.863</td>\n",
       "                        <td id=\"T_48d0d_row2_col6\" class=\"data row2 col6\" >20.948</td>\n",
       "                        <td id=\"T_48d0d_row2_col7\" class=\"data row2 col7\" >True</td>\n",
       "            </tr>\n",
       "            <tr>\n",
       "                        <th id=\"T_48d0d_level0_row3\" class=\"row_heading level0 row3\" >4</th>\n",
       "                        <td id=\"T_48d0d_row3_col0\" class=\"data row3 col0\" >T1</td>\n",
       "                        <td id=\"T_48d0d_row3_col1\" class=\"data row3 col1\" >mean_time_per_session</td>\n",
       "                        <td id=\"T_48d0d_row3_col2\" class=\"data row3 col2\" >227.453</td>\n",
       "                        <td id=\"T_48d0d_row3_col3\" class=\"data row3 col3\" >245.222</td>\n",
       "                        <td id=\"T_48d0d_row3_col4\" class=\"data row3 col4\" >209.684</td>\n",
       "                        <td id=\"T_48d0d_row3_col5\" class=\"data row3 col5\" >4.865</td>\n",
       "                        <td id=\"T_48d0d_row3_col6\" class=\"data row3 col6\" >15.932</td>\n",
       "                        <td id=\"T_48d0d_row3_col7\" class=\"data row3 col7\" >True</td>\n",
       "            </tr>\n",
       "            <tr>\n",
       "                        <th id=\"T_48d0d_level0_row4\" class=\"row_heading level0 row4\" >2</th>\n",
       "                        <td id=\"T_48d0d_row4_col0\" class=\"data row4 col0\" >T1</td>\n",
       "                        <td id=\"T_48d0d_row4_col1\" class=\"data row4 col1\" >mean_request_latency</td>\n",
       "                        <td id=\"T_48d0d_row4_col2\" class=\"data row4 col2\" >-15.269</td>\n",
       "                        <td id=\"T_48d0d_row4_col3\" class=\"data row4 col3\" >-14.812</td>\n",
       "                        <td id=\"T_48d0d_row4_col4\" class=\"data row4 col4\" >-15.727</td>\n",
       "                        <td id=\"T_48d0d_row4_col5\" class=\"data row4 col5\" >0.449</td>\n",
       "                        <td id=\"T_48d0d_row4_col6\" class=\"data row4 col6\" >0.380</td>\n",
       "                        <td id=\"T_48d0d_row4_col7\" class=\"data row4 col7\" >True</td>\n",
       "            </tr>\n",
       "    </tbody></table>"
      ],
      "text/plain": [
       "<pandas.io.formats.style.Styler at 0x7f83dcedf910>"
      ]
     },
     "execution_count": 50,
     "metadata": {},
     "output_type": "execute_result"
    }
   ],
   "source": [
    "def color(value):\n",
    "    return 'color:red;' if value < 0 else 'color:green;'\n",
    "\n",
    "def background(value):\n",
    "    return 'color:white;background-color:green' if value else 'color:white;background-color:red'\n",
    "        \n",
    "\n",
    "(\n",
    "    pd.DataFrame(effects)[[\n",
    "        \"treatment\", \n",
    "        \"metric\",\n",
    "        \"effect\", \n",
    "        \"upper\", \n",
    "        \"lower\", \n",
    "        \"control_mean\", \n",
    "        \"treatment_mean\",\n",
    "        \"significant\"\n",
    "    ]]\n",
    "    .sort_values([\"metric\", \"treatment\"], ascending=False)\n",
    "    .style\n",
    "    .applymap(color, subset=[\"effect\", \"upper\", \"lower\"])\n",
    "    .applymap(background, subset=[\"significant\"])\n",
    ")"
   ]
  },
  {
   "cell_type": "code",
   "execution_count": null,
   "metadata": {},
   "outputs": [],
   "source": []
  }
 ],
 "metadata": {
  "kernelspec": {
   "display_name": "Python 3",
   "language": "python",
   "name": "python3"
  },
  "language_info": {
   "codemirror_mode": {
    "name": "ipython",
    "version": 3
   },
   "file_extension": ".py",
   "mimetype": "text/x-python",
   "name": "python",
   "nbconvert_exporter": "python",
   "pygments_lexer": "ipython3",
   "version": "3.7.9"
  }
 },
 "nbformat": 4,
 "nbformat_minor": 4
}
